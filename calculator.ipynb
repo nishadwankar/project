{
 "cells": [
  {
   "cell_type": "code",
   "execution_count": 1,
   "id": "d3b655ff-028b-48ae-9755-64ac4953d804",
   "metadata": {},
   "outputs": [
    {
     "name": "stdout",
     "output_type": "stream",
     "text": [
      "calculator\n"
     ]
    }
   ],
   "source": [
    "print(\"calculator\")"
   ]
  },
  {
   "cell_type": "code",
   "execution_count": null,
   "id": "a0752280-3fe0-47e5-a1b2-c0aa145b691a",
   "metadata": {},
   "outputs": [],
   "source": []
  }
 ],
 "metadata": {
  "kernelspec": {
   "display_name": "Python 3 (ipykernel)",
   "language": "python",
   "name": "python3"
  },
  "language_info": {
   "codemirror_mode": {
    "name": "ipython",
    "version": 3
   },
   "file_extension": ".py",
   "mimetype": "text/x-python",
   "name": "python",
   "nbconvert_exporter": "python",
   "pygments_lexer": "ipython3",
   "version": "3.12.4"
  }
 },
 "nbformat": 4,
 "nbformat_minor": 5
}
